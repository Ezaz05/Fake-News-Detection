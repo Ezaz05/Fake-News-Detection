{
 "cells": [
  {
   "cell_type": "markdown",
   "metadata": {},
   "source": [
    "# Aim: The main aim of this project is to find whether a news is fake or not?"
   ]
  },
  {
   "cell_type": "code",
   "execution_count": 4,
   "metadata": {},
   "outputs": [
    {
     "data": {
      "text/html": [
       "<div>\n",
       "<style scoped>\n",
       "    .dataframe tbody tr th:only-of-type {\n",
       "        vertical-align: middle;\n",
       "    }\n",
       "\n",
       "    .dataframe tbody tr th {\n",
       "        vertical-align: top;\n",
       "    }\n",
       "\n",
       "    .dataframe thead th {\n",
       "        text-align: right;\n",
       "    }\n",
       "</style>\n",
       "<table border=\"1\" class=\"dataframe\">\n",
       "  <thead>\n",
       "    <tr style=\"text-align: right;\">\n",
       "      <th></th>\n",
       "      <th>Unnamed: 0</th>\n",
       "      <th>title</th>\n",
       "      <th>text</th>\n",
       "      <th>label</th>\n",
       "    </tr>\n",
       "  </thead>\n",
       "  <tbody>\n",
       "    <tr>\n",
       "      <th>0</th>\n",
       "      <td>8476</td>\n",
       "      <td>You Can Smell Hillary’s Fear</td>\n",
       "      <td>Daniel Greenfield, a Shillman Journalism Fellow at the Freedom Center, is a New York writer focusing on radical Islam. \\nIn the final stretch of the election, Hillary Rodham Clinton has gone to war with the FBI. \\nThe word “unprecedented” has been thrown around so often this election that it ought to be retired. But it’s still unprecedented for the nominee of a major political party to go war with the FBI. \\nBut that’s exactly what Hillary and her people have done. Coma patients just waking ...</td>\n",
       "      <td>FAKE</td>\n",
       "    </tr>\n",
       "    <tr>\n",
       "      <th>1</th>\n",
       "      <td>10294</td>\n",
       "      <td>Watch The Exact Moment Paul Ryan Committed Political Suicide At A Trump Rally (VIDEO)</td>\n",
       "      <td>Google Pinterest Digg Linkedin Reddit Stumbleupon Print Delicious Pocket Tumblr \\nThere are two fundamental truths in this world: Paul Ryan desperately wants to be president. And Paul Ryan will never be president. Today proved it. \\nIn a particularly staggering example of political cowardice, Paul Ryan re-re-re-reversed course and announced that he was back on the Trump Train after all. This was an aboutface from where he was a few weeks ago. He had previously declared he would not be suppor...</td>\n",
       "      <td>FAKE</td>\n",
       "    </tr>\n",
       "    <tr>\n",
       "      <th>2</th>\n",
       "      <td>3608</td>\n",
       "      <td>Kerry to go to Paris in gesture of sympathy</td>\n",
       "      <td>U.S. Secretary of State John F. Kerry said Monday that he will stop in Paris later this week, amid criticism that no top American officials attended Sunday’s unity march against terrorism.\\n\\nKerry said he expects to arrive in Paris Thursday evening, as he heads home after a week abroad. He said he will fly to France at the conclusion of a series of meetings scheduled for Thursday in Sofia, Bulgaria. He plans to meet the next day with Foreign Minister Laurent Fabius and President Francois Ho...</td>\n",
       "      <td>REAL</td>\n",
       "    </tr>\n",
       "    <tr>\n",
       "      <th>3</th>\n",
       "      <td>10142</td>\n",
       "      <td>Bernie supporters on Twitter erupt in anger against the DNC: 'We tried to warn you!'</td>\n",
       "      <td>— Kaydee King (@KaydeeKing) November 9, 2016 The lesson from tonight's Dem losses: Time for Democrats to start listening to the voters. Stop running the same establishment candidates. \\n— People For Bernie (@People4Bernie) November 9, 2016 If Dems didn't want a tight race they shouldn't have worked against Bernie. \\n— Walker Bragman (@WalkerBragman) November 9, 2016 \\nNew York Times columnist Paul Krugman, who was one of Hillary Clinton’s most outspoken surrogates during the contentious Demo...</td>\n",
       "      <td>FAKE</td>\n",
       "    </tr>\n",
       "    <tr>\n",
       "      <th>4</th>\n",
       "      <td>875</td>\n",
       "      <td>The Battle of New York: Why This Primary Matters</td>\n",
       "      <td>It's primary day in New York and front-runners Hillary Clinton and Donald Trump are leading in the polls.\\n\\nTrump is now vowing to win enough delegates to clinch the Republican nomination and prevent a contested convention. But Sens.Ted Cruz, R-Texas, Bernie Sanders, D-Vt., and Ohio Gov. John Kasich and aren't giving up just yet.\\n\\nA big win in New York could tip the scales for both the Republican and Democratic front-runners in this year's race for the White House. Clinton and Trump have ...</td>\n",
       "      <td>REAL</td>\n",
       "    </tr>\n",
       "  </tbody>\n",
       "</table>\n",
       "</div>"
      ],
      "text/plain": [
       "   Unnamed: 0  \\\n",
       "0        8476   \n",
       "1       10294   \n",
       "2        3608   \n",
       "3       10142   \n",
       "4         875   \n",
       "\n",
       "                                                                                   title  \\\n",
       "0                                                           You Can Smell Hillary’s Fear   \n",
       "1  Watch The Exact Moment Paul Ryan Committed Political Suicide At A Trump Rally (VIDEO)   \n",
       "2                                            Kerry to go to Paris in gesture of sympathy   \n",
       "3   Bernie supporters on Twitter erupt in anger against the DNC: 'We tried to warn you!'   \n",
       "4                                       The Battle of New York: Why This Primary Matters   \n",
       "\n",
       "                                                                                                                                                                                                                                                                                                                                                                                                                                                                                                                  text  \\\n",
       "0  Daniel Greenfield, a Shillman Journalism Fellow at the Freedom Center, is a New York writer focusing on radical Islam. \\nIn the final stretch of the election, Hillary Rodham Clinton has gone to war with the FBI. \\nThe word “unprecedented” has been thrown around so often this election that it ought to be retired. But it’s still unprecedented for the nominee of a major political party to go war with the FBI. \\nBut that’s exactly what Hillary and her people have done. Coma patients just waking ...   \n",
       "1  Google Pinterest Digg Linkedin Reddit Stumbleupon Print Delicious Pocket Tumblr \\nThere are two fundamental truths in this world: Paul Ryan desperately wants to be president. And Paul Ryan will never be president. Today proved it. \\nIn a particularly staggering example of political cowardice, Paul Ryan re-re-re-reversed course and announced that he was back on the Trump Train after all. This was an aboutface from where he was a few weeks ago. He had previously declared he would not be suppor...   \n",
       "2  U.S. Secretary of State John F. Kerry said Monday that he will stop in Paris later this week, amid criticism that no top American officials attended Sunday’s unity march against terrorism.\\n\\nKerry said he expects to arrive in Paris Thursday evening, as he heads home after a week abroad. He said he will fly to France at the conclusion of a series of meetings scheduled for Thursday in Sofia, Bulgaria. He plans to meet the next day with Foreign Minister Laurent Fabius and President Francois Ho...   \n",
       "3  — Kaydee King (@KaydeeKing) November 9, 2016 The lesson from tonight's Dem losses: Time for Democrats to start listening to the voters. Stop running the same establishment candidates. \\n— People For Bernie (@People4Bernie) November 9, 2016 If Dems didn't want a tight race they shouldn't have worked against Bernie. \\n— Walker Bragman (@WalkerBragman) November 9, 2016 \\nNew York Times columnist Paul Krugman, who was one of Hillary Clinton’s most outspoken surrogates during the contentious Demo...   \n",
       "4  It's primary day in New York and front-runners Hillary Clinton and Donald Trump are leading in the polls.\\n\\nTrump is now vowing to win enough delegates to clinch the Republican nomination and prevent a contested convention. But Sens.Ted Cruz, R-Texas, Bernie Sanders, D-Vt., and Ohio Gov. John Kasich and aren't giving up just yet.\\n\\nA big win in New York could tip the scales for both the Republican and Democratic front-runners in this year's race for the White House. Clinton and Trump have ...   \n",
       "\n",
       "  label  \n",
       "0  FAKE  \n",
       "1  FAKE  \n",
       "2  REAL  \n",
       "3  FAKE  \n",
       "4  REAL  "
      ]
     },
     "execution_count": 4,
     "metadata": {},
     "output_type": "execute_result"
    }
   ],
   "source": [
    "import pandas as pd\n",
    "import matplotlib.pyplot as plt\n",
    "import seaborn as sns\n",
    "pd.set_option('max_colwidth',500)\n",
    "df=pd.read_csv('news.csv')\n",
    "df.head()"
   ]
  },
  {
   "cell_type": "code",
   "execution_count": 5,
   "metadata": {},
   "outputs": [
    {
     "data": {
      "text/plain": [
       "(6335, 4)"
      ]
     },
     "execution_count": 5,
     "metadata": {},
     "output_type": "execute_result"
    }
   ],
   "source": [
    "df.shape"
   ]
  },
  {
   "cell_type": "code",
   "execution_count": 6,
   "metadata": {},
   "outputs": [
    {
     "data": {
      "text/html": [
       "<div>\n",
       "<style scoped>\n",
       "    .dataframe tbody tr th:only-of-type {\n",
       "        vertical-align: middle;\n",
       "    }\n",
       "\n",
       "    .dataframe tbody tr th {\n",
       "        vertical-align: top;\n",
       "    }\n",
       "\n",
       "    .dataframe thead th {\n",
       "        text-align: right;\n",
       "    }\n",
       "</style>\n",
       "<table border=\"1\" class=\"dataframe\">\n",
       "  <thead>\n",
       "    <tr style=\"text-align: right;\">\n",
       "      <th></th>\n",
       "      <th>title</th>\n",
       "      <th>text</th>\n",
       "      <th>label</th>\n",
       "    </tr>\n",
       "  </thead>\n",
       "  <tbody>\n",
       "    <tr>\n",
       "      <th>4123</th>\n",
       "      <td>Turkeys face deep divisions over Thanksgiving vote</td>\n",
       "      <td>November 2, 2016 \\nA group of about 200,000 White Holland turkeys in a gigantic shed at a farm in Ohio is now debating whether or not to vote in favour of Thanksgiving. The vote to be made next week by pecking once at a pile of grain for ‘Thanksgiving’ or twice for ‘Something Else’ comes after bitter arguments in which claims and counter-claims were made about the availability of dust for bathing in over the turkeys’ long-term (i.e. three-week) future. \\nMany turkeys have deplored the result...</td>\n",
       "      <td>FAKE</td>\n",
       "    </tr>\n",
       "  </tbody>\n",
       "</table>\n",
       "</div>"
      ],
      "text/plain": [
       "                                                   title  \\\n",
       "4123  Turkeys face deep divisions over Thanksgiving vote   \n",
       "\n",
       "                                                                                                                                                                                                                                                                                                                                                                                                                                                                                                                     text  \\\n",
       "4123  November 2, 2016 \\nA group of about 200,000 White Holland turkeys in a gigantic shed at a farm in Ohio is now debating whether or not to vote in favour of Thanksgiving. The vote to be made next week by pecking once at a pile of grain for ‘Thanksgiving’ or twice for ‘Something Else’ comes after bitter arguments in which claims and counter-claims were made about the availability of dust for bathing in over the turkeys’ long-term (i.e. three-week) future. \\nMany turkeys have deplored the result...   \n",
       "\n",
       "     label  \n",
       "4123  FAKE  "
      ]
     },
     "execution_count": 6,
     "metadata": {},
     "output_type": "execute_result"
    }
   ],
   "source": [
    "#removing unwanted column\n",
    "df.drop(columns='Unnamed: 0',axis=1,inplace=True)\n",
    "df.sample()"
   ]
  },
  {
   "cell_type": "code",
   "execution_count": 7,
   "metadata": {},
   "outputs": [
    {
     "data": {
      "text/plain": [
       "title    0\n",
       "text     0\n",
       "label    0\n",
       "dtype: int64"
      ]
     },
     "execution_count": 7,
     "metadata": {},
     "output_type": "execute_result"
    }
   ],
   "source": [
    "#Checking the missing values\n",
    "df.isnull().sum()"
   ]
  },
  {
   "cell_type": "code",
   "execution_count": 8,
   "metadata": {},
   "outputs": [
    {
     "data": {
      "text/plain": [
       "<matplotlib.axes._subplots.AxesSubplot at 0x1e6721678b0>"
      ]
     },
     "execution_count": 8,
     "metadata": {},
     "output_type": "execute_result"
    },
    {
     "data": {
      "image/png": "[encoded data removed]",
      "text/plain": [
       "<Figure size 432x288 with 1 Axes>"
      ]
     },
     "metadata": {
      "needs_background": "light"
     },
     "output_type": "display_data"
    }
   ],
   "source": [
    "#Checking dataset is balanced or imbalanced(creating a countplot to visualize it)\n",
    "sns.countplot(df['label'])"
   ]
  },
  {
   "cell_type": "markdown",
   "metadata": {},
   "source": [
    "- Here, we can see that our dataset is balanced dataset."
   ]
  },
  {
   "cell_type": "code",
   "execution_count": 9,
   "metadata": {},
   "outputs": [
    {
     "data": {
      "text/plain": [
       "REAL    3171\n",
       "FAKE    3164\n",
       "Name: label, dtype: int64"
      ]
     },
     "execution_count": 9,
     "metadata": {},
     "output_type": "execute_result"
    }
   ],
   "source": [
    "#Finding the count of each unique values available in label featurd\n",
    "df['label'].value_counts()"
   ]
  },
  {
   "cell_type": "code",
   "execution_count": 10,
   "metadata": {},
   "outputs": [
    {
     "data": {
      "text/html": [
       "<div>\n",
       "<style scoped>\n",
       "    .dataframe tbody tr th:only-of-type {\n",
       "        vertical-align: middle;\n",
       "    }\n",
       "\n",
       "    .dataframe tbody tr th {\n",
       "        vertical-align: top;\n",
       "    }\n",
       "\n",
       "    .dataframe thead th {\n",
       "        text-align: right;\n",
       "    }\n",
       "</style>\n",
       "<table border=\"1\" class=\"dataframe\">\n",
       "  <thead>\n",
       "    <tr style=\"text-align: right;\">\n",
       "      <th></th>\n",
       "      <th>title</th>\n",
       "      <th>text</th>\n",
       "      <th>label</th>\n",
       "    </tr>\n",
       "  </thead>\n",
       "  <tbody>\n",
       "    <tr>\n",
       "      <th>1613</th>\n",
       "      <td>Defense Bill Would Put         Untraceable Guns On Streets</td>\n",
       "      <td>That may soon be possible thanks to a provision tacked onto this year s National Defense Authorization Act  which the House of Representatives is set to pass this week   The provision was added as an amendment during a late night session at the end of last month during which the legislation authorizing the nation s military activities for      was drafted   According to a white paper prepared for Congress by the Army opposing the amendment  the measure would allow the unregulated distributio...</td>\n",
       "      <td>REAL</td>\n",
       "    </tr>\n",
       "  </tbody>\n",
       "</table>\n",
       "</div>"
      ],
      "text/plain": [
       "                                                           title  \\\n",
       "1613  Defense Bill Would Put         Untraceable Guns On Streets   \n",
       "\n",
       "                                                                                                                                                                                                                                                                                                                                                                                                                                                                                                                     text  \\\n",
       "1613  That may soon be possible thanks to a provision tacked onto this year s National Defense Authorization Act  which the House of Representatives is set to pass this week   The provision was added as an amendment during a late night session at the end of last month during which the legislation authorizing the nation s military activities for      was drafted   According to a white paper prepared for Congress by the Army opposing the amendment  the measure would allow the unregulated distributio...   \n",
       "\n",
       "     label  \n",
       "1613  REAL  "
      ]
     },
     "execution_count": 10,
     "metadata": {},
     "output_type": "execute_result"
    }
   ],
   "source": [
    "#Removing Punctuations\n",
    "df.replace(\"[^a-zA-Z]\",\" \",regex=True, inplace=True)\n",
    "df.sample()"
   ]
  },
  {
   "cell_type": "code",
   "execution_count": 11,
   "metadata": {},
   "outputs": [
    {
     "data": {
      "text/html": [
       "<div>\n",
       "<style scoped>\n",
       "    .dataframe tbody tr th:only-of-type {\n",
       "        vertical-align: middle;\n",
       "    }\n",
       "\n",
       "    .dataframe tbody tr th {\n",
       "        vertical-align: top;\n",
       "    }\n",
       "\n",
       "    .dataframe thead th {\n",
       "        text-align: right;\n",
       "    }\n",
       "</style>\n",
       "<table border=\"1\" class=\"dataframe\">\n",
       "  <thead>\n",
       "    <tr style=\"text-align: right;\">\n",
       "      <th></th>\n",
       "      <th>title</th>\n",
       "      <th>text</th>\n",
       "      <th>label</th>\n",
       "    </tr>\n",
       "  </thead>\n",
       "  <tbody>\n",
       "    <tr>\n",
       "      <th>458</th>\n",
       "      <td>war on drugs heading in wrong direction</td>\n",
       "      <td>license dmca my guest today is maya schenwar  truthout s editor in chief  author of locked down  locked out  why prison doesn t work and how we can do better   and co editor of who do you serve  who do you protect  police violence and resistance in the united states   joan brunwasser  welcome back to opednews  maya  we last spoke back in january        now  i d like to discuss your recent piece  death penalty for heroin dealers  more proof the drug war is not over   who thought the drug war ...</td>\n",
       "      <td>fake</td>\n",
       "    </tr>\n",
       "  </tbody>\n",
       "</table>\n",
       "</div>"
      ],
      "text/plain": [
       "                                        title  \\\n",
       "458  war on drugs heading in wrong direction    \n",
       "\n",
       "                                                                                                                                                                                                                                                                                                                                                                                                                                                                                                                    text  \\\n",
       "458  license dmca my guest today is maya schenwar  truthout s editor in chief  author of locked down  locked out  why prison doesn t work and how we can do better   and co editor of who do you serve  who do you protect  police violence and resistance in the united states   joan brunwasser  welcome back to opednews  maya  we last spoke back in january        now  i d like to discuss your recent piece  death penalty for heroin dealers  more proof the drug war is not over   who thought the drug war ...   \n",
       "\n",
       "    label  \n",
       "458  fake  "
      ]
     },
     "execution_count": 11,
     "metadata": {},
     "output_type": "execute_result"
    }
   ],
   "source": [
    "#converting into lowercase\n",
    "for index in df.columns:\n",
    "    df[index]=df[index].str.lower()\n",
    "df.sample()    "
   ]
  },
  {
   "cell_type": "code",
   "execution_count": 12,
   "metadata": {},
   "outputs": [
    {
     "data": {
      "text/plain": [
       "'kamala harris announces u s  senate bid los angeles  cnn  hours after california attorney general kamala harris began raising money for a bid to replace barbara boxer in the u s  senate  billionaire environmentalist tom steyer outlined the case for his own run tuesday and said he would decide soon    setting up the likelihood of an exorbitantly expensive contest that could have two democrats facing off in november of        california s two senate seats have been locked down by boxer and u s  sen  dianne feinstein since       closing off statewide opportunities for the next generation of politicians   under california s new top two primary system  the top two candidates in the first round will advance to the general election  regardless of their party   in a column on the huffington post website  steyer said he was intrigued by the opportunity of taking on interests in washington that  oppose recognizing global warming and fight against the rights and futures of average americans     washington needs to be shaken up and we need climate champions who will fight for the next generation   steyer said   california democrats are blessed to have a deep bench of talent  and i will decide soon based on what i think is the best way to continue the hard work we have already started together to prevent climate disaster and preserve american prosperity    steyer and harris would be among the most formidable contenders for boxer s seat  along with former los angeles mayor antonio villaraigosa  who has said he is  seriously considering  a run  several members of the california congressional delegation and of the state leadership have signaled interest  including rep  loretta sanchez  rep  john garamendi  and state treasurer john chiang   in a facebook post on tuesday  sanchez touted her focus on working families  immigration reform and affordable healthcare    i have advocated for policies that give all families the same access to the american dream   she said   californians deserve a strong voice in washington and i have never been afraid to speak up  which is why i am seriously considering running for the united states senate in         but lesser known candidates could face great difficulty raising the money needed to run  boxer raised some     million in conjunction with party committees for her      race against former hewlett packard chief executive carly fiorina   steyer  a former hedge fund manager from san francisco whose net worth has been estimated at      billion by forbes  has pledged to give away the bulk of his fortune to public interest and philanthropic causes during his lifetime  he has been a vocal opponent of the keystone xl pipeline and a free spending advocate for california environmental causes   his nextgen climate action committee spent more than     million in the midterm elections    much of it steyer s money    trying to defeat candidates who had expressed doubt about climate change  but they had little demonstrable success in a republican wave year   while villaraigosa could build a strong southern california base  and draw on his support from california s growing latino community  harris also has a solid fundraising base in california from her two statewide runs and her close alliance with president barack obama   she has won praise as attorney general for pursuing banks that did not follow proper procedures when they foreclosed on the properties of california homeowners and she has kept a steady focus on reducing recidivism and truancy    i will be a fighter for the next generation on the critical issues facing our country  i will be a fighter for middle class families who are feeling the pinch of stagnant wages and diminishing opportunity   she continued   i will be a fighter for our children who deserve a world class education  and for students burdened by predatory lenders and skyrocketing tuition  and i will fight relentlessly to protect our coast  our immigrant communities and our seniors    newsom has told many confidantes that he is interested in running for governor when jerry brown faces term limits in       and he and harris share the same political consultants  in a statement on his facebook page  newsom said it was better  to be candid than be coy  and noted that it would be better for his three children  montana  hunter and brooklynn  if he stayed in california    while i am humbled by the widespread encouragement of so many and hold in the highest esteem those who serve us in federal office  i know that my head and my heart  my young family s future and our unfinished work all remain firmly in the state of california    not washington  d c  therefore i will not seek election to the u s  senate in        newsom said   hinting at his potential alliance with harris  he added that in the months to come  he looked  forward to doing whatever i can to help elect california s next great democratic senator    one worthy of succeeding barbara boxer and serving this remarkable state of dreamers and doers in the united states senate    shortly after boxer announced that she would retire from the senate in       los angeles mayor eric garcetti said he would not run for the seat  real'"
      ]
     },
     "execution_count": 12,
     "metadata": {},
     "output_type": "execute_result"
    }
   ],
   "source": [
    "#combining all the texts together\n",
    "analyze=[]\n",
    "for row in range(0,len(df.index)):\n",
    "    analyze.append(\" \".join(str(x) for x in df.iloc[row,0:]))\n",
    "analyze[2623]    "
   ]
  },
  {
   "cell_type": "code",
   "execution_count": 13,
   "metadata": {},
   "outputs": [
    {
     "name": "stderr",
     "output_type": "stream",
     "text": [
      "<frozen importlib._bootstrap>:219: RuntimeWarning: numpy.ufunc size changed, may indicate binary incompatibility. Expected 192 from C header, got 216 from PyObject\n"
     ]
    }
   ],
   "source": [
    "from sklearn.feature_extraction.text import TfidfVectorizer\n",
    "Tfid_vect=TfidfVectorizer()\n",
    "df_feature=Tfid_vect.fit_transform(analyze)"
   ]
  },
  {
   "cell_type": "code",
   "execution_count": 16,
   "metadata": {},
   "outputs": [
    {
     "data": {
      "text/plain": [
       "RandomForestClassifier()"
      ]
     },
     "execution_count": 16,
     "metadata": {},
     "output_type": "execute_result"
    }
   ],
   "source": [
    "#Applying Naive-Bayes Algorithm for model creation/classification\n",
    "from sklearn.ensemble import RandomForestClassifier\n",
    "from sklearn.model_selection import train_test_split\n",
    "x_train,x_test,y_train,y_test=train_test_split(df_feature,df.label,test_size=0.2,random_state=0)\n",
    "nb_clf=RandomForestClassifier()\n",
    "nb_clf.fit(x_train.toarray(),y_train)"
   ]
  },
  {
   "cell_type": "code",
   "execution_count": 17,
   "metadata": {},
   "outputs": [
    {
     "name": "stdout",
     "output_type": "stream",
     "text": [
      "accuracy: 0.9613259668508287\n",
      "confusion matrix: [[582  16]\n",
      " [ 33 636]]\n",
      "classification report:               precision    recall  f1-score   support\n",
      "\n",
      "        fake       0.95      0.97      0.96       598\n",
      "        real       0.98      0.95      0.96       669\n",
      "\n",
      "    accuracy                           0.96      1267\n",
      "   macro avg       0.96      0.96      0.96      1267\n",
      "weighted avg       0.96      0.96      0.96      1267\n",
      "\n"
     ]
    }
   ],
   "source": [
    "#Checking the accuracy\n",
    "from sklearn.metrics import accuracy_score,confusion_matrix,classification_report\n",
    "prediction=nb_clf.predict(x_test.toarray())\n",
    "print(\"accuracy:\",accuracy_score(prediction,y_test))\n",
    "print('confusion matrix:',confusion_matrix(prediction,y_test))\n",
    "print('classification report:',classification_report(prediction,y_test))"
   ]
  },
  {
   "cell_type": "markdown",
   "metadata": {},
   "source": [
    "- Here, we can see that we are getting the accuracy of 96.13 %"
   ]
  }
 ],
 "metadata": {
  "kernelspec": {
   "display_name": "Python 3",
   "language": "python",
   "name": "python3"
  },
  "language_info": {
   "codemirror_mode": {
    "name": "ipython",
    "version": 3
   },
   "file_extension": ".py",
   "mimetype": "text/x-python",
   "name": "python",
   "nbconvert_exporter": "python",
   "pygments_lexer": "ipython3",
   "version": "3.8.3"
  }
 },
 "nbformat": 4,
 "nbformat_minor": 4
}
